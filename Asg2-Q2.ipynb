{
 "cells": [
  {
   "cell_type": "code",
   "execution_count": 1,
   "metadata": {},
   "outputs": [],
   "source": [
    "import numpy as np\n",
    "import pandas as pd\n",
    "import matplotlib.pyplot as plt\n",
    "import scipy.optimize as opt"
   ]
  },
  {
   "cell_type": "code",
   "execution_count": 2,
   "metadata": {},
   "outputs": [
    {
     "name": "stdout",
     "output_type": "stream",
     "text": [
      "       Test-1    Test-2  Accept Microchip\n",
      "0    0.051267  0.699550                 1\n",
      "1   -0.092742  0.684940                 1\n",
      "2   -0.213710  0.692250                 1\n",
      "3   -0.375000  0.502190                 1\n",
      "4   -0.513250  0.465640                 1\n",
      "..        ...       ...               ...\n",
      "113 -0.720620  0.538740                 0\n",
      "114 -0.593890  0.494880                 0\n",
      "115 -0.484450  0.999270                 0\n",
      "116 -0.006336  0.999270                 0\n",
      "117  0.632650 -0.030612                 0\n",
      "\n",
      "[118 rows x 3 columns]\n"
     ]
    }
   ],
   "source": [
    "data = pd.read_csv('ex2data2.txt', sep=\",\", header=None,names=[\"Test-1\", \"Test-2\",\"Accept Microchip\"])\n",
    "print(data)"
   ]
  },
  {
   "cell_type": "code",
   "execution_count": 3,
   "metadata": {},
   "outputs": [],
   "source": [
    "def plotDecisionBoundary(theta,degree, axes):\n",
    "    u = np.linspace(-1, 1.5, 50)\n",
    "    v = np.linspace(-1, 1.5, 50)\n",
    "    U,V = np.meshgrid(u,v)\n",
    "    # convert U, V to vectors \n",
    "    U = np.ravel(U)\n",
    "    V = np.ravel(V)\n",
    "    Z = np.zeros((len(u) * len(v)))\n",
    "    \n",
    "    X_poly = mapFeature(U, V, degree)\n",
    "    Z = X_poly.dot(theta)\n",
    "    \n",
    "    # reshape U, V, Z back to matrix\n",
    "    U = U.reshape((len(u), len(v)))\n",
    "    V = V.reshape((len(u), len(v)))\n",
    "    Z = Z.reshape((len(u), len(v)))\n",
    "    \n",
    "    cs = axes.contour(U,V,Z,levels=[0])\n",
    "    axes.legend(labels=['Accepted', 'Rejected', 'Decision Boundary'])\n",
    "    return cs\n",
    "def mapFeature(X1, X2, degree):\n",
    "    res = np.ones(X1.shape[0])\n",
    "    for i in range(1,degree + 1):\n",
    "        for j in range(0,i + 1):\n",
    "            res = np.column_stack((res, (X1 ** (i-j)) * (X2 ** j)))\n",
    "    \n",
    "    return res"
   ]
  },
  {
   "cell_type": "code",
   "execution_count": 4,
   "metadata": {},
   "outputs": [
    {
     "data": {
      "text/plain": [
       "Text(0, 0.5, 'Test 2 Score')"
      ]
     },
     "execution_count": 4,
     "metadata": {},
     "output_type": "execute_result"
    },
    {
     "data": {
      "image/png": "[encoded data removed]",
      "text/plain": [
       "<Figure size 864x576 with 1 Axes>"
      ]
     },
     "metadata": {
      "needs_background": "light"
     },
     "output_type": "display_data"
    }
   ],
   "source": [
    "positiveClass = data[data['Accept Microchip'].isin([1])]\n",
    "negativeClass = data[data['Accept Microchip'].isin([0])]\n",
    "\n",
    "fig, ax = plt.subplots(figsize=(12,8))\n",
    "ax.scatter(positiveClass['Test-1'], positiveClass['Test-2'], s=50, c='black', marker='+', label='Accepted')\n",
    "ax.scatter(negativeClass['Test-1'], negativeClass['Test-2'], s=50, c='yellow', marker='o', label='Rejected')\n",
    "ax.legend()\n",
    "ax.set_xlabel('Test 1 Score')\n",
    "ax.set_ylabel('Test 2 Score')"
   ]
  },
  {
   "cell_type": "code",
   "execution_count": 5,
   "metadata": {},
   "outputs": [
    {
     "data": {
      "text/html": [
       "<div>\n",
       "<style scoped>\n",
       "    .dataframe tbody tr th:only-of-type {\n",
       "        vertical-align: middle;\n",
       "    }\n",
       "\n",
       "    .dataframe tbody tr th {\n",
       "        vertical-align: top;\n",
       "    }\n",
       "\n",
       "    .dataframe thead th {\n",
       "        text-align: right;\n",
       "    }\n",
       "</style>\n",
       "<table border=\"1\" class=\"dataframe\">\n",
       "  <thead>\n",
       "    <tr style=\"text-align: right;\">\n",
       "      <th></th>\n",
       "      <th>Accept Microchip</th>\n",
       "      <th>Ones</th>\n",
       "      <th>F10</th>\n",
       "      <th>F11</th>\n",
       "      <th>F20</th>\n",
       "      <th>F21</th>\n",
       "      <th>F22</th>\n",
       "      <th>F30</th>\n",
       "      <th>F31</th>\n",
       "      <th>F32</th>\n",
       "      <th>...</th>\n",
       "      <th>F53</th>\n",
       "      <th>F54</th>\n",
       "      <th>F55</th>\n",
       "      <th>F60</th>\n",
       "      <th>F61</th>\n",
       "      <th>F62</th>\n",
       "      <th>F63</th>\n",
       "      <th>F64</th>\n",
       "      <th>F65</th>\n",
       "      <th>F66</th>\n",
       "    </tr>\n",
       "  </thead>\n",
       "  <tbody>\n",
       "    <tr>\n",
       "      <th>0</th>\n",
       "      <td>1</td>\n",
       "      <td>1</td>\n",
       "      <td>0.051267</td>\n",
       "      <td>0.69955</td>\n",
       "      <td>0.002628</td>\n",
       "      <td>0.035864</td>\n",
       "      <td>0.489370</td>\n",
       "      <td>0.000135</td>\n",
       "      <td>0.001839</td>\n",
       "      <td>0.025089</td>\n",
       "      <td>...</td>\n",
       "      <td>0.000900</td>\n",
       "      <td>0.012278</td>\n",
       "      <td>0.167530</td>\n",
       "      <td>1.815630e-08</td>\n",
       "      <td>2.477469e-07</td>\n",
       "      <td>0.000003</td>\n",
       "      <td>0.000046</td>\n",
       "      <td>0.000629</td>\n",
       "      <td>0.008589</td>\n",
       "      <td>0.117196</td>\n",
       "    </tr>\n",
       "    <tr>\n",
       "      <th>1</th>\n",
       "      <td>1</td>\n",
       "      <td>1</td>\n",
       "      <td>-0.092742</td>\n",
       "      <td>0.68494</td>\n",
       "      <td>0.008601</td>\n",
       "      <td>-0.063523</td>\n",
       "      <td>0.469143</td>\n",
       "      <td>-0.000798</td>\n",
       "      <td>0.005891</td>\n",
       "      <td>-0.043509</td>\n",
       "      <td>...</td>\n",
       "      <td>0.002764</td>\n",
       "      <td>-0.020412</td>\n",
       "      <td>0.150752</td>\n",
       "      <td>6.362953e-07</td>\n",
       "      <td>-4.699318e-06</td>\n",
       "      <td>0.000035</td>\n",
       "      <td>-0.000256</td>\n",
       "      <td>0.001893</td>\n",
       "      <td>-0.013981</td>\n",
       "      <td>0.103256</td>\n",
       "    </tr>\n",
       "    <tr>\n",
       "      <th>2</th>\n",
       "      <td>1</td>\n",
       "      <td>1</td>\n",
       "      <td>-0.213710</td>\n",
       "      <td>0.69225</td>\n",
       "      <td>0.045672</td>\n",
       "      <td>-0.147941</td>\n",
       "      <td>0.479210</td>\n",
       "      <td>-0.009761</td>\n",
       "      <td>0.031616</td>\n",
       "      <td>-0.102412</td>\n",
       "      <td>...</td>\n",
       "      <td>0.015151</td>\n",
       "      <td>-0.049077</td>\n",
       "      <td>0.158970</td>\n",
       "      <td>9.526844e-05</td>\n",
       "      <td>-3.085938e-04</td>\n",
       "      <td>0.001000</td>\n",
       "      <td>-0.003238</td>\n",
       "      <td>0.010488</td>\n",
       "      <td>-0.033973</td>\n",
       "      <td>0.110047</td>\n",
       "    </tr>\n",
       "    <tr>\n",
       "      <th>3</th>\n",
       "      <td>1</td>\n",
       "      <td>1</td>\n",
       "      <td>-0.375000</td>\n",
       "      <td>0.50219</td>\n",
       "      <td>0.140625</td>\n",
       "      <td>-0.188321</td>\n",
       "      <td>0.252195</td>\n",
       "      <td>-0.052734</td>\n",
       "      <td>0.070620</td>\n",
       "      <td>-0.094573</td>\n",
       "      <td>...</td>\n",
       "      <td>0.017810</td>\n",
       "      <td>-0.023851</td>\n",
       "      <td>0.031940</td>\n",
       "      <td>2.780914e-03</td>\n",
       "      <td>-3.724126e-03</td>\n",
       "      <td>0.004987</td>\n",
       "      <td>-0.006679</td>\n",
       "      <td>0.008944</td>\n",
       "      <td>-0.011978</td>\n",
       "      <td>0.016040</td>\n",
       "    </tr>\n",
       "    <tr>\n",
       "      <th>4</th>\n",
       "      <td>1</td>\n",
       "      <td>1</td>\n",
       "      <td>-0.513250</td>\n",
       "      <td>0.46564</td>\n",
       "      <td>0.263426</td>\n",
       "      <td>-0.238990</td>\n",
       "      <td>0.216821</td>\n",
       "      <td>-0.135203</td>\n",
       "      <td>0.122661</td>\n",
       "      <td>-0.111283</td>\n",
       "      <td>...</td>\n",
       "      <td>0.026596</td>\n",
       "      <td>-0.024128</td>\n",
       "      <td>0.021890</td>\n",
       "      <td>1.827990e-02</td>\n",
       "      <td>-1.658422e-02</td>\n",
       "      <td>0.015046</td>\n",
       "      <td>-0.013650</td>\n",
       "      <td>0.012384</td>\n",
       "      <td>-0.011235</td>\n",
       "      <td>0.010193</td>\n",
       "    </tr>\n",
       "  </tbody>\n",
       "</table>\n",
       "<p>5 rows × 29 columns</p>\n",
       "</div>"
      ],
      "text/plain": [
       "   Accept Microchip  Ones       F10      F11       F20       F21       F22  \\\n",
       "0                 1     1  0.051267  0.69955  0.002628  0.035864  0.489370   \n",
       "1                 1     1 -0.092742  0.68494  0.008601 -0.063523  0.469143   \n",
       "2                 1     1 -0.213710  0.69225  0.045672 -0.147941  0.479210   \n",
       "3                 1     1 -0.375000  0.50219  0.140625 -0.188321  0.252195   \n",
       "4                 1     1 -0.513250  0.46564  0.263426 -0.238990  0.216821   \n",
       "\n",
       "        F30       F31       F32  ...       F53       F54       F55  \\\n",
       "0  0.000135  0.001839  0.025089  ...  0.000900  0.012278  0.167530   \n",
       "1 -0.000798  0.005891 -0.043509  ...  0.002764 -0.020412  0.150752   \n",
       "2 -0.009761  0.031616 -0.102412  ...  0.015151 -0.049077  0.158970   \n",
       "3 -0.052734  0.070620 -0.094573  ...  0.017810 -0.023851  0.031940   \n",
       "4 -0.135203  0.122661 -0.111283  ...  0.026596 -0.024128  0.021890   \n",
       "\n",
       "            F60           F61       F62       F63       F64       F65  \\\n",
       "0  1.815630e-08  2.477469e-07  0.000003  0.000046  0.000629  0.008589   \n",
       "1  6.362953e-07 -4.699318e-06  0.000035 -0.000256  0.001893 -0.013981   \n",
       "2  9.526844e-05 -3.085938e-04  0.001000 -0.003238  0.010488 -0.033973   \n",
       "3  2.780914e-03 -3.724126e-03  0.004987 -0.006679  0.008944 -0.011978   \n",
       "4  1.827990e-02 -1.658422e-02  0.015046 -0.013650  0.012384 -0.011235   \n",
       "\n",
       "        F66  \n",
       "0  0.117196  \n",
       "1  0.103256  \n",
       "2  0.110047  \n",
       "3  0.016040  \n",
       "4  0.010193  \n",
       "\n",
       "[5 rows x 29 columns]"
      ]
     },
     "execution_count": 5,
     "metadata": {},
     "output_type": "execute_result"
    }
   ],
   "source": [
    "degree = 6\n",
    "x1 = data['Test-1']\n",
    "x2 = data['Test-2']\n",
    "#dummy feature\n",
    "data.insert(3, 'Ones', 1)\n",
    "\n",
    "for i in range(1, degree+1):\n",
    "    for j in range(0, i+1):\n",
    "        data['F' + str(i) + str(j)] = np.power(x1, i-j) * np.power(x2, j)\n",
    "\n",
    "data.drop('Test-1', axis=1, inplace=True)\n",
    "data.drop('Test-2', axis=1, inplace=True)\n",
    "\n",
    "data.head()"
   ]
  },
  {
   "cell_type": "code",
   "execution_count": 6,
   "metadata": {},
   "outputs": [],
   "source": [
    "def RegularizedCost(theta, X, Y, learningRate):\n",
    "    theta = np.matrix(theta)\n",
    "    X = np.matrix(X)\n",
    "    Y = np.matrix(Y)\n",
    "    \n",
    "    term1 = np.multiply(-Y, np.log(sigmoidFunction(X * theta.T))) #-y * log(h(x))\n",
    "    term2 = np.multiply((1 - Y), np.log(1 - sigmoidFunction(X * theta.T))) #(1-y)*log(1-h(x))\n",
    "    \n",
    "    regFactor = (learningRate / 2 * len(X)) * np.sum(np.power(theta[:,1:theta.shape[1]], 2)) \n",
    "    \n",
    "    return np.sum(term1 - term2) / (len(X)) + regFactor"
   ]
  },
  {
   "cell_type": "code",
   "execution_count": 7,
   "metadata": {},
   "outputs": [],
   "source": [
    "def RegularizedGradient(theta, X, Y, learningRate):\n",
    "    theta = np.matrix(theta)\n",
    "    X = np.matrix(X)\n",
    "    Y = np.matrix(Y)\n",
    "    \n",
    "    featureCount = int(theta.ravel().shape[1])\n",
    "    gradient = np.zeros(featureCount)\n",
    "    \n",
    "    error = sigmoidFunction(X * theta.T) - Y\n",
    "    \n",
    "    for i in range(featureCount):\n",
    "        term = np.multiply(error, X[:,i])\n",
    "        \n",
    "        if (i == 0):\n",
    "            gradient[i] = np.sum(term) / len(X)# j=0\n",
    "        else:\n",
    "            gradient[i] = (np.sum(term) / len(X)) + ((learningRate / len(X)) * theta[:,i])# j=1 learningRate/size of X *theta[i]\n",
    "    \n",
    "    return gradient\n",
    "def sigmoidFunction(z):\n",
    "    return 1 / (1 + np.exp(-z))"
   ]
  },
  {
   "cell_type": "code",
   "execution_count": 8,
   "metadata": {},
   "outputs": [],
   "source": [
    "cols = data.shape[1]\n",
    "X2=data.iloc[:,1:cols]\n",
    "y2=data.iloc[:,0:1]\n",
    "X2 = np.array(X2.values)\n",
    "y2 = np.array(y2.values)\n",
    "theta0 = np.zeros(28)"
   ]
  },
  {
   "cell_type": "code",
   "execution_count": 9,
   "metadata": {},
   "outputs": [],
   "source": [
    "learningRate = 1"
   ]
  },
  {
   "cell_type": "code",
   "execution_count": 10,
   "metadata": {},
   "outputs": [
    {
     "data": {
      "text/plain": [
       "0.6931471805599454"
      ]
     },
     "execution_count": 10,
     "metadata": {},
     "output_type": "execute_result"
    }
   ],
   "source": [
    "RegularizedCost(theta0, X2, y2, learningRate)"
   ]
  },
  {
   "cell_type": "code",
   "execution_count": 11,
   "metadata": {},
   "outputs": [
    {
     "data": {
      "text/plain": [
       "array([8.47457627e-03, 1.87880932e-02, 7.78135593e-05, 5.03446395e-02,\n",
       "       1.15013330e-02, 3.76649066e-02, 1.83559872e-02, 7.32393402e-03,\n",
       "       8.19244772e-03, 2.34765511e-02, 3.93486234e-02, 2.23923907e-03,\n",
       "       1.28600505e-02, 3.09594039e-03, 3.93028751e-02, 1.99707467e-02,\n",
       "       4.32983232e-03, 3.38643903e-03, 5.83822094e-03, 4.47629364e-03,\n",
       "       3.10080356e-02, 3.10312442e-02, 1.09740238e-03, 6.31570797e-03,\n",
       "       4.08503014e-04, 7.26504332e-03, 1.37646435e-03, 3.87936789e-02])"
      ]
     },
     "execution_count": 11,
     "metadata": {},
     "output_type": "execute_result"
    }
   ],
   "source": [
    "RegularizedGradient(theta0, X2, y2, learningRate)"
   ]
  },
  {
   "cell_type": "code",
   "execution_count": 12,
   "metadata": {},
   "outputs": [
    {
     "data": {
      "text/plain": [
       "(array([ 2.49641262e-04,  1.37411881e-04,  2.77014857e-04, -4.35864780e-04,\n",
       "        -1.62450154e-04, -2.48691187e-04,  3.40751509e-05, -7.16774229e-05,\n",
       "        -7.34925368e-05, -2.03235205e-05, -3.10561784e-04, -1.49841005e-05,\n",
       "        -1.31827706e-04, -4.36572110e-05, -2.29977995e-04, -3.43132227e-05,\n",
       "        -4.33025391e-05, -1.87924827e-05, -5.59545724e-05, -5.21235877e-05,\n",
       "        -9.08327640e-05, -2.10980599e-04,  2.17301660e-06, -6.54199924e-05,\n",
       "        -8.84462763e-07, -6.91290878e-05, -1.78752463e-05, -1.85528124e-04]),\n",
       " 98,\n",
       " 4)"
      ]
     },
     "execution_count": 12,
     "metadata": {},
     "output_type": "execute_result"
    }
   ],
   "source": [
    "result0 = opt.fmin_tnc(func=RegularizedCost, x0=theta0, fprime=RegularizedGradient, args=(X2, y2, learningRate))\n",
    "result0"
   ]
  },
  {
   "cell_type": "code",
   "execution_count": 13,
   "metadata": {},
   "outputs": [
    {
     "name": "stdout",
     "output_type": "stream",
     "text": [
      "[ 2.49641262e-04  1.37411881e-04  2.77014857e-04 -4.35864780e-04\n",
      " -1.62450154e-04 -2.48691187e-04  3.40751509e-05 -7.16774229e-05\n",
      " -7.34925368e-05 -2.03235205e-05 -3.10561784e-04 -1.49841005e-05\n",
      " -1.31827706e-04 -4.36572110e-05 -2.29977995e-04 -3.43132227e-05\n",
      " -4.33025391e-05 -1.87924827e-05 -5.59545724e-05 -5.21235877e-05\n",
      " -9.08327640e-05 -2.10980599e-04  2.17301660e-06 -6.54199924e-05\n",
      " -8.84462763e-07 -6.91290878e-05 -1.78752463e-05 -1.85528124e-04]\n"
     ]
    }
   ],
   "source": [
    "updatedtheta0=result0[0]\n",
    "print(updatedtheta0)"
   ]
  },
  {
   "cell_type": "code",
   "execution_count": 14,
   "metadata": {},
   "outputs": [
    {
     "data": {
      "text/plain": [
       "<matplotlib.contour.QuadContourSet at 0x199036faa00>"
      ]
     },
     "execution_count": 14,
     "metadata": {},
     "output_type": "execute_result"
    },
    {
     "data": {
      "image/png": "[encoded data removed]",
      "text/plain": [
       "<Figure size 864x576 with 1 Axes>"
      ]
     },
     "metadata": {
      "needs_background": "light"
     },
     "output_type": "display_data"
    }
   ],
   "source": [
    "positiveClass = data[data['Accept Microchip'].isin([1])]\n",
    "negativeClass = data[data['Accept Microchip'].isin([0])]\n",
    "fig, ax = plt.subplots(figsize=(12,8));\n",
    "ax.set_xlabel('Test 1')\n",
    "ax.set_ylabel('Test 2')\n",
    "ax.scatter(positiveClass['F10'], positiveClass['F11'], s=50, c='black', marker='+', label='Accepted')\n",
    "ax.scatter(negativeClass['F10'], negativeClass['F11'], s=50, c='yellow', marker='o', label='Rejected')\n",
    "plt.title(\"Lamba=1\")\n",
    "plotDecisionBoundary(updatedtheta0, 6, ax)"
   ]
  },
  {
   "cell_type": "code",
   "execution_count": 15,
   "metadata": {},
   "outputs": [],
   "source": [
    "learningRate = 0"
   ]
  },
  {
   "cell_type": "code",
   "execution_count": 16,
   "metadata": {},
   "outputs": [
    {
     "data": {
      "text/plain": [
       "(array([   9.80772029,   13.33854843,    6.05553715, -100.54470799,\n",
       "         -62.91927813,  -29.96279513, -114.94135774, -103.37066731,\n",
       "         -37.79684543,    1.36549323,  376.98002191,  381.56473406,\n",
       "         370.39944766,  175.51958932,   22.3642478 ,  216.93552695,\n",
       "         349.94828879,  359.74122842,  166.34057557,   24.21486376,\n",
       "           3.07550368, -463.94398831, -680.98634555, -881.02120737,\n",
       "        -670.7974377 , -451.63132094, -168.01627112,  -19.17556842]),\n",
       " 281,\n",
       " 3)"
      ]
     },
     "execution_count": 16,
     "metadata": {},
     "output_type": "execute_result"
    }
   ],
   "source": [
    "result1 = opt.fmin_tnc(func=RegularizedCost, x0=updatedtheta0, fprime=RegularizedGradient, args=(X2, y2, learningRate))\n",
    "result1"
   ]
  },
  {
   "cell_type": "code",
   "execution_count": 17,
   "metadata": {},
   "outputs": [
    {
     "name": "stdout",
     "output_type": "stream",
     "text": [
      "[   9.80772029   13.33854843    6.05553715 -100.54470799  -62.91927813\n",
      "  -29.96279513 -114.94135774 -103.37066731  -37.79684543    1.36549323\n",
      "  376.98002191  381.56473406  370.39944766  175.51958932   22.3642478\n",
      "  216.93552695  349.94828879  359.74122842  166.34057557   24.21486376\n",
      "    3.07550368 -463.94398831 -680.98634555 -881.02120737 -670.7974377\n",
      " -451.63132094 -168.01627112  -19.17556842]\n"
     ]
    }
   ],
   "source": [
    "updatedtheta0=result1[0]\n",
    "print(updatedtheta0)"
   ]
  },
  {
   "cell_type": "code",
   "execution_count": 18,
   "metadata": {},
   "outputs": [
    {
     "data": {
      "text/plain": [
       "<matplotlib.contour.QuadContourSet at 0x1990375fa00>"
      ]
     },
     "execution_count": 18,
     "metadata": {},
     "output_type": "execute_result"
    },
    {
     "data": {
      "image/png": "[encoded data removed]",
      "text/plain": [
       "<Figure size 864x576 with 1 Axes>"
      ]
     },
     "metadata": {
      "needs_background": "light"
     },
     "output_type": "display_data"
    }
   ],
   "source": [
    "fig, ax = plt.subplots(figsize=(12,8));\n",
    "ax.set_xlabel('Test 1')\n",
    "ax.set_ylabel('Test 2')\n",
    "ax.scatter(positiveClass['F10'], positiveClass['F11'], s=50, c='black', marker='+', label='Accepted')\n",
    "ax.scatter(negativeClass['F10'], negativeClass['F11'], s=50, c='yellow', marker='o', label='Rejected')\n",
    "plt.title(\"Lamba=0\")\n",
    "plotDecisionBoundary(updatedtheta0, 6, ax)"
   ]
  },
  {
   "cell_type": "code",
   "execution_count": 19,
   "metadata": {},
   "outputs": [],
   "source": [
    "learningRate = 100\n",
    "theta1=np.zeros(28)"
   ]
  },
  {
   "cell_type": "code",
   "execution_count": 20,
   "metadata": {},
   "outputs": [
    {
     "data": {
      "text/plain": [
       "(array([ 2.80291588e-07, -2.05609598e-06,  1.19522144e-06, -6.63748155e-06,\n",
       "        -1.70320432e-06, -4.35587732e-06, -2.21189099e-06, -9.15884996e-07,\n",
       "        -1.10594263e-06, -2.56285471e-06, -5.33382836e-06, -2.99639836e-07,\n",
       "        -1.71675981e-06, -4.57305249e-07, -4.92173500e-06, -2.56391940e-06,\n",
       "        -5.75500869e-07, -4.37902147e-07, -7.65808900e-07, -6.32966179e-07,\n",
       "        -3.79087951e-06, -4.21777923e-06, -1.32363057e-07, -8.63375656e-07,\n",
       "        -4.84926404e-08, -9.74377888e-07, -2.04809054e-07, -4.94729350e-06]),\n",
       " 88,\n",
       " 4)"
      ]
     },
     "execution_count": 20,
     "metadata": {},
     "output_type": "execute_result"
    }
   ],
   "source": [
    "result2 = opt.fmin_tnc(func=RegularizedCost, x0=theta1, fprime=RegularizedGradient, args=(X2, y2, learningRate))\n",
    "result2"
   ]
  },
  {
   "cell_type": "code",
   "execution_count": 21,
   "metadata": {},
   "outputs": [
    {
     "name": "stdout",
     "output_type": "stream",
     "text": [
      "[ 2.80291588e-07 -2.05609598e-06  1.19522144e-06 -6.63748155e-06\n",
      " -1.70320432e-06 -4.35587732e-06 -2.21189099e-06 -9.15884996e-07\n",
      " -1.10594263e-06 -2.56285471e-06 -5.33382836e-06 -2.99639836e-07\n",
      " -1.71675981e-06 -4.57305249e-07 -4.92173500e-06 -2.56391940e-06\n",
      " -5.75500869e-07 -4.37902147e-07 -7.65808900e-07 -6.32966179e-07\n",
      " -3.79087951e-06 -4.21777923e-06 -1.32363057e-07 -8.63375656e-07\n",
      " -4.84926404e-08 -9.74377888e-07 -2.04809054e-07 -4.94729350e-06]\n"
     ]
    }
   ],
   "source": [
    "updatedtheta0=result2[0]\n",
    "print(updatedtheta0)"
   ]
  },
  {
   "cell_type": "code",
   "execution_count": 22,
   "metadata": {},
   "outputs": [
    {
     "data": {
      "text/plain": [
       "<matplotlib.contour.QuadContourSet at 0x199037d00a0>"
      ]
     },
     "execution_count": 22,
     "metadata": {},
     "output_type": "execute_result"
    },
    {
     "data": {
      "image/png": "[encoded data removed]",
      "text/plain": [
       "<Figure size 864x576 with 1 Axes>"
      ]
     },
     "metadata": {
      "needs_background": "light"
     },
     "output_type": "display_data"
    }
   ],
   "source": [
    "fig, ax = plt.subplots(figsize=(12,8));\n",
    "ax.set_xlabel('Test 1')\n",
    "ax.set_ylabel('Test 2')\n",
    "ax.scatter(positiveClass['F10'], positiveClass['F11'], s=50, c='black', marker='+', label='Accepted')\n",
    "ax.scatter(negativeClass['F10'], negativeClass['F11'], s=50, c='yellow', marker='o', label='Rejected')\n",
    "plt.title(\"Lamba=100\")\n",
    "plotDecisionBoundary(updatedtheta0, 6, ax)"
   ]
  }
 ],
 "metadata": {
  "kernelspec": {
   "display_name": "Python 3",
   "language": "python",
   "name": "python3"
  },
  "language_info": {
   "codemirror_mode": {
    "name": "ipython",
    "version": 3
   },
   "file_extension": ".py",
   "mimetype": "text/x-python",
   "name": "python",
   "nbconvert_exporter": "python",
   "pygments_lexer": "ipython3",
   "version": "3.8.5"
  }
 },
 "nbformat": 4,
 "nbformat_minor": 4
}
